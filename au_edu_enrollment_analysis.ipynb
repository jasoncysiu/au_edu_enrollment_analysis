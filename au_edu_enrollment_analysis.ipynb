{
 "cells": [
  {
   "cell_type": "code",
   "execution_count": 31,
   "metadata": {},
   "outputs": [],
   "source": [
    "import pandas as pd\n",
    "import plotly.graph_objects as go\n"
   ]
  },
  {
   "cell_type": "code",
   "execution_count": 32,
   "metadata": {},
   "outputs": [],
   "source": [
    "df = pd.read_csv(r\"Pivot_Basic_All.csv\")"
   ]
  },
  {
   "cell_type": "markdown",
   "metadata": {},
   "source": [
    "# Enrolment Projection for 2025\n",
    "\n",
    "In this document, we describe the approach used to estimate the values for the year 2025 while ensuring that the total value for the \"Grand Total\" is 270,000. \n",
    "\n",
    "## Approach\n",
    "\n",
    "1. **Calculate the Total for Each Year (excluding 2025):**\n",
    "   Compute the total sum of all categories for each year provided in the data.\n",
    "\n",
    "2. **Calculate Ratios for Each Category:**\n",
    "   For each year, determine the ratio of each category's value to the total value of that year.\n",
    "\n",
    "3. **Average the Ratios:**\n",
    "   Compute the average ratio for each category across the available years.\n",
    "\n",
    "4. **Apply the Average Ratios to the 2025 Total:**\n",
    "   Multiply the average ratio of each category by the total value for 2025 (270,000) to estimate the value for that category in 2025.\n",
    "\n",
    "## Data and Calculations\n",
    "\n",
    "The following steps outline the calculations for each category:\n",
    "\n",
    "### Example Calculation for \"Higher Education\"\n",
    "\n",
    "1. **Calculate Ratios:**\n",
    "   - For 2020: Ratio = 148,535 / 259,640 ≈ 0.573\n",
    "   - For 2021: Ratio = 155,387 / 280,371 ≈ 0.554\n",
    "   - For 2022: Ratio = 158,515 / 320,500 ≈ 0.495\n",
    "   - For 2023: Ratio = 162,656 / 376,363 ≈ 0.432\n",
    "   - For 2024: Ratio = 179,973 / 448,421 ≈ 0.401\n",
    "\n",
    "2. **Average Ratio:**\n",
    "   - Average Ratio for \"Higher Education\" = (0.573 + 0.554 + 0.495 + 0.432 + 0.401) / 5 ≈ 0.491\n",
    "\n",
    "3. **Estimate Value for 2025:**\n",
    "   - Estimated Value for \"Higher Education\" = 270,000 × 0.491 ≈ 132,000\n",
    "\n",
    "### Results for 2025\n",
    "\n",
    "Here are the estimated values for each category in 2025, ensuring that the total equals 270,000:\n",
    "\n",
    "- **Higher Education:** 132,000\n",
    "- **VET:** (Perform similar calculations)\n",
    "- **Schools:** (Perform similar calculations)\n",
    "- **ELICOS:** (Perform similar calculations)\n",
    "- **Non-award:** (Perform similar calculations)\n",
    "\n",
    "The above results were obtained by averaging historical ratios and applying them to the total value for 2025.\n",
    "\n",
    "## Summary\n",
    "\n",
    "By following this approach, we have estimated the breakdown values for 2025 while ensuring the grand total matches the specified target of 270,000. This method maintains historical proportions and provides a reasonable estimate based on available data.\n",
    "\n"
   ]
  },
  {
   "cell_type": "code",
   "execution_count": 33,
   "metadata": {},
   "outputs": [],
   "source": [
    "# Convert to long format\n",
    "df_long = pd.melt(df, id_vars=['Sector'], var_name='Year', value_name='Enrolments')"
   ]
  },
  {
   "cell_type": "code",
   "execution_count": 34,
   "metadata": {},
   "outputs": [
    {
     "data": {
      "application/vnd.plotly.v1+json": {
       "config": {
        "plotlyServerURL": "https://plot.ly"
       },
       "data": [
        {
         "customdata": [
          259640,
          280371,
          320500,
          376363,
          448421,
          459541,
          413601,
          377094,
          367405,
          403924,
          446829,
          497868,
          564159,
          624893,
          691180,
          706095,
          591270,
          521831,
          677640,
          810960,
          270000
         ],
         "marker": {
          "color": "#1f77b4"
         },
         "name": "Higher Education",
         "opacity": 0.6,
         "type": "bar",
         "x": [
          "2005",
          "2006",
          "2007",
          "2008",
          "2009",
          "2010",
          "2011",
          "2012",
          "2013",
          "2014",
          "2015",
          "2016",
          "2017",
          "2018",
          "2019",
          "2020",
          "2021",
          "2022",
          "2023",
          "2024",
          "2025"
         ],
         "y": [
          148535,
          155387,
          158515,
          162656,
          179973,
          199341,
          202447,
          192683,
          187502,
          199471,
          217801,
          244541,
          280136,
          319486,
          360440,
          362442,
          322527,
          286336,
          330549,
          399427,
          132000
         ]
        },
        {
         "customdata": [
          259640,
          280371,
          320500,
          376363,
          448421,
          459541,
          413601,
          377094,
          367405,
          403924,
          446829,
          497868,
          564159,
          624893,
          691180,
          706095,
          591270,
          521831,
          677640,
          810960,
          270000
         ],
         "marker": {
          "color": "#ff7f0e"
         },
         "name": "VET",
         "opacity": 0.6,
         "type": "bar",
         "x": [
          "2005",
          "2006",
          "2007",
          "2008",
          "2009",
          "2010",
          "2011",
          "2012",
          "2013",
          "2014",
          "2015",
          "2016",
          "2017",
          "2018",
          "2019",
          "2020",
          "2021",
          "2022",
          "2023",
          "2024",
          "2025"
         ],
         "y": [
          35975,
          45413,
          67240,
          101475,
          146150,
          150376,
          120350,
          102500,
          90181,
          95489,
          109880,
          124276,
          143687,
          164042,
          189922,
          220211,
          216966,
          193065,
          223382,
          278032,
          59700
         ]
        },
        {
         "customdata": [
          259640,
          280371,
          320500,
          376363,
          448421,
          459541,
          413601,
          377094,
          367405,
          403924,
          446829,
          497868,
          564159,
          624893,
          691180,
          706095,
          591270,
          521831,
          677640,
          810960,
          270000
         ],
         "marker": {
          "color": "#2ca02c"
         },
         "name": "Schools",
         "opacity": 0.6,
         "type": "bar",
         "x": [
          "2005",
          "2006",
          "2007",
          "2008",
          "2009",
          "2010",
          "2011",
          "2012",
          "2013",
          "2014",
          "2015",
          "2016",
          "2017",
          "2018",
          "2019",
          "2020",
          "2021",
          "2022",
          "2023",
          "2024",
          "2025"
         ],
         "y": [
          21294,
          19914,
          21038,
          23033,
          22917,
          20253,
          17205,
          14996,
          14068,
          14118,
          15766,
          18252,
          20383,
          22074,
          21360,
          19266,
          12644,
          8868,
          11882,
          16325,
          17800
         ]
        },
        {
         "customdata": [
          259640,
          280371,
          320500,
          376363,
          448421,
          459541,
          413601,
          377094,
          367405,
          403924,
          446829,
          497868,
          564159,
          624893,
          691180,
          706095,
          591270,
          521831,
          677640,
          810960,
          270000
         ],
         "marker": {
          "color": "#d62728"
         },
         "name": "ELICOS",
         "opacity": 0.6,
         "type": "bar",
         "x": [
          "2005",
          "2006",
          "2007",
          "2008",
          "2009",
          "2010",
          "2011",
          "2012",
          "2013",
          "2014",
          "2015",
          "2016",
          "2017",
          "2018",
          "2019",
          "2020",
          "2021",
          "2022",
          "2023",
          "2024",
          "2025"
         ],
         "y": [
          37499,
          43516,
          57071,
          71159,
          80544,
          70314,
          56006,
          51857,
          59383,
          74660,
          79937,
          84651,
          88478,
          87995,
          89375,
          76627,
          28684,
          25197,
          93675,
          95913,
          45600
         ]
        },
        {
         "customdata": [
          259640,
          280371,
          320500,
          376363,
          448421,
          459541,
          413601,
          377094,
          367405,
          403924,
          446829,
          497868,
          564159,
          624893,
          691180,
          706095,
          591270,
          521831,
          677640,
          810960,
          270000
         ],
         "marker": {
          "color": "#9467bd"
         },
         "name": "Non-award",
         "opacity": 0.6,
         "type": "bar",
         "x": [
          "2005",
          "2006",
          "2007",
          "2008",
          "2009",
          "2010",
          "2011",
          "2012",
          "2013",
          "2014",
          "2015",
          "2016",
          "2017",
          "2018",
          "2019",
          "2020",
          "2021",
          "2022",
          "2023",
          "2024",
          "2025"
         ],
         "y": [
          16337,
          16141,
          16636,
          18040,
          18837,
          19257,
          17593,
          15058,
          16271,
          20186,
          23445,
          26148,
          31475,
          31296,
          30083,
          27549,
          10449,
          8365,
          18152,
          21263,
          14200
         ]
        },
        {
         "hovertemplate": "%{y}<extra></extra>",
         "line": {
          "color": "#8c564b",
          "width": 2
         },
         "marker": {
          "size": 8
         },
         "mode": "lines+markers",
         "name": "Total Enrolments",
         "type": "scatter",
         "x": [
          "2005",
          "2006",
          "2007",
          "2008",
          "2009",
          "2010",
          "2011",
          "2012",
          "2013",
          "2014",
          "2015",
          "2016",
          "2017",
          "2018",
          "2019",
          "2020",
          "2021",
          "2022",
          "2023",
          "2024",
          "2025"
         ],
         "y": [
          259640,
          280371,
          320500,
          376363,
          448421,
          459541,
          413601,
          377094,
          367405,
          403924,
          446829,
          497868,
          564159,
          624893,
          691180,
          706095,
          591270,
          521831,
          677640,
          810960,
          270000
         ]
        }
       ],
       "layout": {
        "annotations": [
         {
          "align": "left",
          "font": {
           "color": "#8c564b",
           "size": 17
          },
          "showarrow": false,
          "text": "<b>3x less<b>",
          "x": 0.98,
          "xanchor": "right",
          "xref": "paper",
          "y": 0.56,
          "yanchor": "bottom",
          "yref": "paper"
         },
         {
          "align": "left",
          "arrowcolor": "#a8a8a8",
          "arrowhead": 2,
          "arrowsize": 1,
          "arrowwidth": 1.5,
          "bgcolor": "#eaeaea",
          "font": {
           "color": "#8c564b",
           "size": 12
          },
          "showarrow": true,
          "standoff": 10,
          "text": "819000",
          "x": 0.9,
          "xanchor": "left",
          "xref": "paper",
          "y": 0.93,
          "yanchor": "top",
          "yref": "paper"
         },
         {
          "align": "left",
          "arrowcolor": "#a8a8a8",
          "arrowhead": 2,
          "arrowsize": 1,
          "arrowwidth": 1.5,
          "bgcolor": "#eaeaea",
          "font": {
           "color": "#8c564b",
           "size": 12
          },
          "showarrow": true,
          "standoff": 10,
          "text": "<b>Cap:</b><br>270000",
          "x": 0.956,
          "xanchor": "left",
          "xref": "paper",
          "y": 0.33,
          "yanchor": "top",
          "yref": "paper"
         },
         {
          "align": "left",
          "arrowcolor": "#a8a8a8",
          "arrowhead": 2,
          "arrowsize": 1,
          "arrowwidth": 1.5,
          "bgcolor": "#eaeaea",
          "font": {
           "color": "#8c564b",
           "size": 12
          },
          "showarrow": true,
          "standoff": 10,
          "text": "259640",
          "x": 0.05,
          "xanchor": "left",
          "xref": "paper",
          "y": 0.3,
          "yanchor": "top",
          "yref": "paper"
         }
        ],
        "bargap": 0.01,
        "barmode": "stack",
        "hoverlabel": {
         "bgcolor": "#eaeaea"
        },
        "hovermode": "x unified",
        "legend": {
         "orientation": "h"
        },
        "margin": {
         "b": 30,
         "l": 120,
         "r": 80,
         "t": 90
        },
        "paper_bgcolor": "#eaeaea",
        "plot_bgcolor": "#eaeaea",
        "showlegend": true,
        "template": {
         "data": {
          "bar": [
           {
            "error_x": {
             "color": "#2a3f5f"
            },
            "error_y": {
             "color": "#2a3f5f"
            },
            "marker": {
             "line": {
              "color": "white",
              "width": 0.5
             },
             "pattern": {
              "fillmode": "overlay",
              "size": 10,
              "solidity": 0.2
             }
            },
            "type": "bar"
           }
          ],
          "barpolar": [
           {
            "marker": {
             "line": {
              "color": "white",
              "width": 0.5
             },
             "pattern": {
              "fillmode": "overlay",
              "size": 10,
              "solidity": 0.2
             }
            },
            "type": "barpolar"
           }
          ],
          "carpet": [
           {
            "aaxis": {
             "endlinecolor": "#2a3f5f",
             "gridcolor": "#C8D4E3",
             "linecolor": "#C8D4E3",
             "minorgridcolor": "#C8D4E3",
             "startlinecolor": "#2a3f5f"
            },
            "baxis": {
             "endlinecolor": "#2a3f5f",
             "gridcolor": "#C8D4E3",
             "linecolor": "#C8D4E3",
             "minorgridcolor": "#C8D4E3",
             "startlinecolor": "#2a3f5f"
            },
            "type": "carpet"
           }
          ],
          "choropleth": [
           {
            "colorbar": {
             "outlinewidth": 0,
             "ticks": ""
            },
            "type": "choropleth"
           }
          ],
          "contour": [
           {
            "colorbar": {
             "outlinewidth": 0,
             "ticks": ""
            },
            "colorscale": [
             [
              0,
              "#0d0887"
             ],
             [
              0.1111111111111111,
              "#46039f"
             ],
             [
              0.2222222222222222,
              "#7201a8"
             ],
             [
              0.3333333333333333,
              "#9c179e"
             ],
             [
              0.4444444444444444,
              "#bd3786"
             ],
             [
              0.5555555555555556,
              "#d8576b"
             ],
             [
              0.6666666666666666,
              "#ed7953"
             ],
             [
              0.7777777777777778,
              "#fb9f3a"
             ],
             [
              0.8888888888888888,
              "#fdca26"
             ],
             [
              1,
              "#f0f921"
             ]
            ],
            "type": "contour"
           }
          ],
          "contourcarpet": [
           {
            "colorbar": {
             "outlinewidth": 0,
             "ticks": ""
            },
            "type": "contourcarpet"
           }
          ],
          "heatmap": [
           {
            "colorbar": {
             "outlinewidth": 0,
             "ticks": ""
            },
            "colorscale": [
             [
              0,
              "#0d0887"
             ],
             [
              0.1111111111111111,
              "#46039f"
             ],
             [
              0.2222222222222222,
              "#7201a8"
             ],
             [
              0.3333333333333333,
              "#9c179e"
             ],
             [
              0.4444444444444444,
              "#bd3786"
             ],
             [
              0.5555555555555556,
              "#d8576b"
             ],
             [
              0.6666666666666666,
              "#ed7953"
             ],
             [
              0.7777777777777778,
              "#fb9f3a"
             ],
             [
              0.8888888888888888,
              "#fdca26"
             ],
             [
              1,
              "#f0f921"
             ]
            ],
            "type": "heatmap"
           }
          ],
          "heatmapgl": [
           {
            "colorbar": {
             "outlinewidth": 0,
             "ticks": ""
            },
            "colorscale": [
             [
              0,
              "#0d0887"
             ],
             [
              0.1111111111111111,
              "#46039f"
             ],
             [
              0.2222222222222222,
              "#7201a8"
             ],
             [
              0.3333333333333333,
              "#9c179e"
             ],
             [
              0.4444444444444444,
              "#bd3786"
             ],
             [
              0.5555555555555556,
              "#d8576b"
             ],
             [
              0.6666666666666666,
              "#ed7953"
             ],
             [
              0.7777777777777778,
              "#fb9f3a"
             ],
             [
              0.8888888888888888,
              "#fdca26"
             ],
             [
              1,
              "#f0f921"
             ]
            ],
            "type": "heatmapgl"
           }
          ],
          "histogram": [
           {
            "marker": {
             "pattern": {
              "fillmode": "overlay",
              "size": 10,
              "solidity": 0.2
             }
            },
            "type": "histogram"
           }
          ],
          "histogram2d": [
           {
            "colorbar": {
             "outlinewidth": 0,
             "ticks": ""
            },
            "colorscale": [
             [
              0,
              "#0d0887"
             ],
             [
              0.1111111111111111,
              "#46039f"
             ],
             [
              0.2222222222222222,
              "#7201a8"
             ],
             [
              0.3333333333333333,
              "#9c179e"
             ],
             [
              0.4444444444444444,
              "#bd3786"
             ],
             [
              0.5555555555555556,
              "#d8576b"
             ],
             [
              0.6666666666666666,
              "#ed7953"
             ],
             [
              0.7777777777777778,
              "#fb9f3a"
             ],
             [
              0.8888888888888888,
              "#fdca26"
             ],
             [
              1,
              "#f0f921"
             ]
            ],
            "type": "histogram2d"
           }
          ],
          "histogram2dcontour": [
           {
            "colorbar": {
             "outlinewidth": 0,
             "ticks": ""
            },
            "colorscale": [
             [
              0,
              "#0d0887"
             ],
             [
              0.1111111111111111,
              "#46039f"
             ],
             [
              0.2222222222222222,
              "#7201a8"
             ],
             [
              0.3333333333333333,
              "#9c179e"
             ],
             [
              0.4444444444444444,
              "#bd3786"
             ],
             [
              0.5555555555555556,
              "#d8576b"
             ],
             [
              0.6666666666666666,
              "#ed7953"
             ],
             [
              0.7777777777777778,
              "#fb9f3a"
             ],
             [
              0.8888888888888888,
              "#fdca26"
             ],
             [
              1,
              "#f0f921"
             ]
            ],
            "type": "histogram2dcontour"
           }
          ],
          "mesh3d": [
           {
            "colorbar": {
             "outlinewidth": 0,
             "ticks": ""
            },
            "type": "mesh3d"
           }
          ],
          "parcoords": [
           {
            "line": {
             "colorbar": {
              "outlinewidth": 0,
              "ticks": ""
             }
            },
            "type": "parcoords"
           }
          ],
          "pie": [
           {
            "automargin": true,
            "type": "pie"
           }
          ],
          "scatter": [
           {
            "marker": {
             "colorbar": {
              "outlinewidth": 0,
              "ticks": ""
             }
            },
            "type": "scatter"
           }
          ],
          "scatter3d": [
           {
            "line": {
             "colorbar": {
              "outlinewidth": 0,
              "ticks": ""
             }
            },
            "marker": {
             "colorbar": {
              "outlinewidth": 0,
              "ticks": ""
             }
            },
            "type": "scatter3d"
           }
          ],
          "scattercarpet": [
           {
            "marker": {
             "colorbar": {
              "outlinewidth": 0,
              "ticks": ""
             }
            },
            "type": "scattercarpet"
           }
          ],
          "scattergeo": [
           {
            "marker": {
             "colorbar": {
              "outlinewidth": 0,
              "ticks": ""
             }
            },
            "type": "scattergeo"
           }
          ],
          "scattergl": [
           {
            "marker": {
             "colorbar": {
              "outlinewidth": 0,
              "ticks": ""
             }
            },
            "type": "scattergl"
           }
          ],
          "scattermapbox": [
           {
            "marker": {
             "colorbar": {
              "outlinewidth": 0,
              "ticks": ""
             }
            },
            "type": "scattermapbox"
           }
          ],
          "scatterpolar": [
           {
            "marker": {
             "colorbar": {
              "outlinewidth": 0,
              "ticks": ""
             }
            },
            "type": "scatterpolar"
           }
          ],
          "scatterpolargl": [
           {
            "marker": {
             "colorbar": {
              "outlinewidth": 0,
              "ticks": ""
             }
            },
            "type": "scatterpolargl"
           }
          ],
          "scatterternary": [
           {
            "marker": {
             "colorbar": {
              "outlinewidth": 0,
              "ticks": ""
             }
            },
            "type": "scatterternary"
           }
          ],
          "surface": [
           {
            "colorbar": {
             "outlinewidth": 0,
             "ticks": ""
            },
            "colorscale": [
             [
              0,
              "#0d0887"
             ],
             [
              0.1111111111111111,
              "#46039f"
             ],
             [
              0.2222222222222222,
              "#7201a8"
             ],
             [
              0.3333333333333333,
              "#9c179e"
             ],
             [
              0.4444444444444444,
              "#bd3786"
             ],
             [
              0.5555555555555556,
              "#d8576b"
             ],
             [
              0.6666666666666666,
              "#ed7953"
             ],
             [
              0.7777777777777778,
              "#fb9f3a"
             ],
             [
              0.8888888888888888,
              "#fdca26"
             ],
             [
              1,
              "#f0f921"
             ]
            ],
            "type": "surface"
           }
          ],
          "table": [
           {
            "cells": {
             "fill": {
              "color": "#EBF0F8"
             },
             "line": {
              "color": "white"
             }
            },
            "header": {
             "fill": {
              "color": "#C8D4E3"
             },
             "line": {
              "color": "white"
             }
            },
            "type": "table"
           }
          ]
         },
         "layout": {
          "annotationdefaults": {
           "arrowcolor": "#2a3f5f",
           "arrowhead": 0,
           "arrowwidth": 1
          },
          "autotypenumbers": "strict",
          "coloraxis": {
           "colorbar": {
            "outlinewidth": 0,
            "ticks": ""
           }
          },
          "colorscale": {
           "diverging": [
            [
             0,
             "#8e0152"
            ],
            [
             0.1,
             "#c51b7d"
            ],
            [
             0.2,
             "#de77ae"
            ],
            [
             0.3,
             "#f1b6da"
            ],
            [
             0.4,
             "#fde0ef"
            ],
            [
             0.5,
             "#f7f7f7"
            ],
            [
             0.6,
             "#e6f5d0"
            ],
            [
             0.7,
             "#b8e186"
            ],
            [
             0.8,
             "#7fbc41"
            ],
            [
             0.9,
             "#4d9221"
            ],
            [
             1,
             "#276419"
            ]
           ],
           "sequential": [
            [
             0,
             "#0d0887"
            ],
            [
             0.1111111111111111,
             "#46039f"
            ],
            [
             0.2222222222222222,
             "#7201a8"
            ],
            [
             0.3333333333333333,
             "#9c179e"
            ],
            [
             0.4444444444444444,
             "#bd3786"
            ],
            [
             0.5555555555555556,
             "#d8576b"
            ],
            [
             0.6666666666666666,
             "#ed7953"
            ],
            [
             0.7777777777777778,
             "#fb9f3a"
            ],
            [
             0.8888888888888888,
             "#fdca26"
            ],
            [
             1,
             "#f0f921"
            ]
           ],
           "sequentialminus": [
            [
             0,
             "#0d0887"
            ],
            [
             0.1111111111111111,
             "#46039f"
            ],
            [
             0.2222222222222222,
             "#7201a8"
            ],
            [
             0.3333333333333333,
             "#9c179e"
            ],
            [
             0.4444444444444444,
             "#bd3786"
            ],
            [
             0.5555555555555556,
             "#d8576b"
            ],
            [
             0.6666666666666666,
             "#ed7953"
            ],
            [
             0.7777777777777778,
             "#fb9f3a"
            ],
            [
             0.8888888888888888,
             "#fdca26"
            ],
            [
             1,
             "#f0f921"
            ]
           ]
          },
          "colorway": [
           "#636efa",
           "#EF553B",
           "#00cc96",
           "#ab63fa",
           "#FFA15A",
           "#19d3f3",
           "#FF6692",
           "#B6E880",
           "#FF97FF",
           "#FECB52"
          ],
          "font": {
           "color": "#2a3f5f"
          },
          "geo": {
           "bgcolor": "white",
           "lakecolor": "white",
           "landcolor": "white",
           "showlakes": true,
           "showland": true,
           "subunitcolor": "#C8D4E3"
          },
          "hoverlabel": {
           "align": "left"
          },
          "hovermode": "closest",
          "mapbox": {
           "style": "light"
          },
          "paper_bgcolor": "white",
          "plot_bgcolor": "white",
          "polar": {
           "angularaxis": {
            "gridcolor": "#EBF0F8",
            "linecolor": "#EBF0F8",
            "ticks": ""
           },
           "bgcolor": "white",
           "radialaxis": {
            "gridcolor": "#EBF0F8",
            "linecolor": "#EBF0F8",
            "ticks": ""
           }
          },
          "scene": {
           "xaxis": {
            "backgroundcolor": "white",
            "gridcolor": "#DFE8F3",
            "gridwidth": 2,
            "linecolor": "#EBF0F8",
            "showbackground": true,
            "ticks": "",
            "zerolinecolor": "#EBF0F8"
           },
           "yaxis": {
            "backgroundcolor": "white",
            "gridcolor": "#DFE8F3",
            "gridwidth": 2,
            "linecolor": "#EBF0F8",
            "showbackground": true,
            "ticks": "",
            "zerolinecolor": "#EBF0F8"
           },
           "zaxis": {
            "backgroundcolor": "white",
            "gridcolor": "#DFE8F3",
            "gridwidth": 2,
            "linecolor": "#EBF0F8",
            "showbackground": true,
            "ticks": "",
            "zerolinecolor": "#EBF0F8"
           }
          },
          "shapedefaults": {
           "line": {
            "color": "#2a3f5f"
           }
          },
          "ternary": {
           "aaxis": {
            "gridcolor": "#DFE8F3",
            "linecolor": "#A2B1C6",
            "ticks": ""
           },
           "baxis": {
            "gridcolor": "#DFE8F3",
            "linecolor": "#A2B1C6",
            "ticks": ""
           },
           "bgcolor": "white",
           "caxis": {
            "gridcolor": "#DFE8F3",
            "linecolor": "#A2B1C6",
            "ticks": ""
           }
          },
          "title": {
           "x": 0.05
          },
          "xaxis": {
           "automargin": true,
           "gridcolor": "#EBF0F8",
           "linecolor": "#EBF0F8",
           "ticks": "",
           "title": {
            "standoff": 15
           },
           "zerolinecolor": "#EBF0F8",
           "zerolinewidth": 2
          },
          "yaxis": {
           "automargin": true,
           "gridcolor": "#EBF0F8",
           "linecolor": "#EBF0F8",
           "ticks": "",
           "title": {
            "standoff": 15
           },
           "zerolinecolor": "#EBF0F8",
           "zerolinewidth": 2
          }
         }
        },
        "title": {
         "text": "<b>Detailed Breakdown and Trends in Educational Enrolments by Sector (2005 - 2025)</b>"
        },
        "xaxis": {
         "linecolor": "#d6d6d6",
         "tickformat": "%Y"
        },
        "yaxis": {
         "gridcolor": "#d6d6d6",
         "tickformat": ",",
         "title": {
          "text": "Number of Enrolments"
         }
        }
       }
      }
     },
     "metadata": {},
     "output_type": "display_data"
    }
   ],
   "source": [
    "import plotly.graph_objects as go\n",
    "\n",
    "# Filter out \"Grand Total\" for bars, but keep it in the data for tooltips\n",
    "df_bars = df_long[df_long['Sector'] != 'Grand Total']\n",
    "df_grand_total = df_long[df_long['Sector'] == 'Grand Total']\n",
    "\n",
    "# Create figure\n",
    "fig = go.Figure()\n",
    "\n",
    "# Define colors for each sector\n",
    "sector_colors = {\n",
    "    'Higher Education': '#1f77b4',\n",
    "    'VET': '#ff7f0e',\n",
    "    'Schools': '#2ca02c',\n",
    "    'ELICOS': '#d62728',\n",
    "    'Non-award': '#9467bd',\n",
    "    'Grand Total': '#8c564b'  # Color for Grand Total\n",
    "}\n",
    "\n",
    "# Add bars for each sector except \"Grand Total\"\n",
    "for sector in df_bars['Sector'].unique():\n",
    "    sector_data = df_bars[df_bars['Sector'] == sector]\n",
    "    fig.add_trace(\n",
    "        go.Bar(\n",
    "            name=sector,\n",
    "            x=sector_data['Year'],\n",
    "            y=sector_data['Enrolments'],\n",
    "            marker_color=sector_colors.get(sector, '#000000'),\n",
    "            opacity=0.6,\n",
    "            customdata=[df_grand_total[df_grand_total['Year'] == year]['Enrolments'].values[0] if not df_grand_total[df_grand_total['Year'] == year].empty else None for year in sector_data['Year']]\n",
    "        )\n",
    "    )\n",
    "\n",
    "# Add line for \"Grand Total\"\n",
    "fig.add_trace(\n",
    "    go.Scatter(\n",
    "        x=df_grand_total['Year'],\n",
    "        y=df_grand_total['Enrolments'],\n",
    "        mode='lines+markers',\n",
    "        line=dict(color=sector_colors['Grand Total'], width=2),\n",
    "        marker=dict(size=8),\n",
    "        name='Total Enrolments',\n",
    "        hovertemplate='%{y}<extra></extra>'\n",
    "    )\n",
    ")\n",
    "\n",
    "\n",
    "# Update layout\n",
    "fig.update_layout(\n",
    "    title=\"<b>Detailed Breakdown and Trends in Educational Enrolments by Sector (2005 - 2025)</b>\",\n",
    "    \n",
    "    showlegend=True,\n",
    "    legend_orientation='h',\n",
    "    margin=dict(t=90, b=30, l=120, r=80),\n",
    "    barmode='stack',\n",
    "    hovermode='x unified',\n",
    "    template='plotly_white',\n",
    "    paper_bgcolor='#eaeaea',\n",
    "    plot_bgcolor='#eaeaea',\n",
    "    hoverlabel=dict(\n",
    "        bgcolor='#eaeaea'\n",
    "    ),\n",
    "    bargap=0.01\n",
    ")\n",
    "\n",
    "fig.update_xaxes(\n",
    "    linecolor='#d6d6d6',\n",
    "    tickformat='%Y'\n",
    ")\n",
    "\n",
    "fig.update_yaxes(\n",
    "    tickformat=',',\n",
    "    gridcolor='#d6d6d6',\n",
    "    title='Number of Enrolments'\n",
    ")\n",
    "\n",
    "# Add annotation\n",
    "fig.add_annotation(\n",
    "    x=0.98,\n",
    "    y=0.56,\n",
    "    xref='paper',\n",
    "    yref='paper',\n",
    "    text=\"<b>3x less<b>\",\n",
    "    showarrow=False,\n",
    "    align='left',\n",
    "    font=dict(size=17, color='#8c564b'),\n",
    "    xanchor='right',\n",
    "    yanchor='bottom'\n",
    ")\n",
    "\n",
    "\n",
    "# Add annotation\n",
    "fig.add_annotation(\n",
    "    x=0.9,\n",
    "    y=0.93,\n",
    "    xref='paper',\n",
    "    yref='paper',\n",
    "    text=\"819000\",\n",
    "    showarrow=True,\n",
    "    arrowhead=2,  # Style of the arrow\n",
    "    arrowsize=1,  # Size of the arrow\n",
    "    arrowwidth=1.5,  # Width of the arrow\n",
    "    arrowcolor='#a8a8a8',  # Color of the arrow\n",
    "    align='left',\n",
    "    font=dict(size=12, color='#8c564b'),\n",
    "    bgcolor='#eaeaea',  # Background color of the annotation\n",
    "    xanchor='left',\n",
    "    yanchor='top',\n",
    "    standoff=10  # Distance of the annotation from the arrow\n",
    ")\n",
    "\n",
    "# Add annotation\n",
    "fig.add_annotation(\n",
    "    x=0.956,\n",
    "    y=0.33,\n",
    "    xref='paper',\n",
    "    yref='paper',\n",
    "    text=\"<b>Cap:</b><br>270000\",\n",
    "    showarrow=True,\n",
    "    arrowhead=2,  # Style of the arrow\n",
    "    arrowsize=1,  # Size of the arrow\n",
    "    arrowwidth=1.5,  # Width of the arrow\n",
    "    arrowcolor='#a8a8a8',  # Color of the arrow\n",
    "    align='left',\n",
    "    font=dict(size=12, color='#8c564b'),\n",
    "    bgcolor='#eaeaea',  # Background color of the annotation\n",
    "    xanchor='left',\n",
    "    yanchor='top',\n",
    "    standoff=10  # Distance of the annotation from the arrow\n",
    ")\n",
    "\n",
    "# Add annotation\n",
    "fig.add_annotation(\n",
    "    x=0.05,\n",
    "    y=0.3,\n",
    "    xref='paper',\n",
    "    yref='paper',\n",
    "    text=\"259640\",\n",
    "    showarrow=True,\n",
    "    arrowhead=2,  # Style of the arrow\n",
    "    arrowsize=1,  # Size of the arrow\n",
    "    arrowwidth=1.5,  # Width of the arrow\n",
    "    arrowcolor='#a8a8a8',  # Color of the arrow\n",
    "    align='left',\n",
    "    font=dict(size=12, color='#8c564b'),\n",
    "    bgcolor='#eaeaea',  # Background color of the annotation\n",
    "    xanchor='left',\n",
    "    yanchor='top',\n",
    "    standoff=10  # Distance of the annotation from the arrow\n",
    ")\n",
    "\n",
    "\n",
    "fig.show()\n",
    "\n",
    "# Save the figure\n",
    "fig.write_html('educational_enrolments.html')\n"
   ]
  },
  {
   "cell_type": "code",
   "execution_count": 35,
   "metadata": {},
   "outputs": [
    {
     "data": {
      "application/vnd.plotly.v1+json": {
       "config": {
        "plotlyServerURL": "https://plot.ly"
       },
       "data": [
        {
         "customdata": [
          259640,
          280371,
          320500,
          376363,
          448421,
          459541,
          413601,
          377094,
          367405,
          403924,
          446829,
          497868,
          564159,
          624893,
          691180,
          706095,
          591270,
          521831,
          677640,
          810960,
          270000
         ],
         "marker": {
          "color": "#1f77b4"
         },
         "name": "Higher Education",
         "opacity": 0.6,
         "type": "bar",
         "x": [
          "2005",
          "2006",
          "2007",
          "2008",
          "2009",
          "2010",
          "2011",
          "2012",
          "2013",
          "2014",
          "2015",
          "2016",
          "2017",
          "2018",
          "2019",
          "2020",
          "2021",
          "2022",
          "2023",
          "2024",
          "2025"
         ],
         "y": [
          148535,
          155387,
          158515,
          162656,
          179973,
          199341,
          202447,
          192683,
          187502,
          199471,
          217801,
          244541,
          280136,
          319486,
          360440,
          362442,
          322527,
          286336,
          330549,
          399427,
          132000
         ]
        },
        {
         "customdata": [
          259640,
          280371,
          320500,
          376363,
          448421,
          459541,
          413601,
          377094,
          367405,
          403924,
          446829,
          497868,
          564159,
          624893,
          691180,
          706095,
          591270,
          521831,
          677640,
          810960,
          270000
         ],
         "marker": {
          "color": "#ff7f0e"
         },
         "name": "VET",
         "opacity": 0.6,
         "type": "bar",
         "x": [
          "2005",
          "2006",
          "2007",
          "2008",
          "2009",
          "2010",
          "2011",
          "2012",
          "2013",
          "2014",
          "2015",
          "2016",
          "2017",
          "2018",
          "2019",
          "2020",
          "2021",
          "2022",
          "2023",
          "2024",
          "2025"
         ],
         "y": [
          35975,
          45413,
          67240,
          101475,
          146150,
          150376,
          120350,
          102500,
          90181,
          95489,
          109880,
          124276,
          143687,
          164042,
          189922,
          220211,
          216966,
          193065,
          223382,
          278032,
          59700
         ]
        },
        {
         "customdata": [
          259640,
          280371,
          320500,
          376363,
          448421,
          459541,
          413601,
          377094,
          367405,
          403924,
          446829,
          497868,
          564159,
          624893,
          691180,
          706095,
          591270,
          521831,
          677640,
          810960,
          270000
         ],
         "marker": {
          "color": "#2ca02c"
         },
         "name": "Schools",
         "opacity": 0.6,
         "type": "bar",
         "x": [
          "2005",
          "2006",
          "2007",
          "2008",
          "2009",
          "2010",
          "2011",
          "2012",
          "2013",
          "2014",
          "2015",
          "2016",
          "2017",
          "2018",
          "2019",
          "2020",
          "2021",
          "2022",
          "2023",
          "2024",
          "2025"
         ],
         "y": [
          21294,
          19914,
          21038,
          23033,
          22917,
          20253,
          17205,
          14996,
          14068,
          14118,
          15766,
          18252,
          20383,
          22074,
          21360,
          19266,
          12644,
          8868,
          11882,
          16325,
          17800
         ]
        },
        {
         "customdata": [
          259640,
          280371,
          320500,
          376363,
          448421,
          459541,
          413601,
          377094,
          367405,
          403924,
          446829,
          497868,
          564159,
          624893,
          691180,
          706095,
          591270,
          521831,
          677640,
          810960,
          270000
         ],
         "marker": {
          "color": "#d62728"
         },
         "name": "ELICOS",
         "opacity": 0.6,
         "type": "bar",
         "x": [
          "2005",
          "2006",
          "2007",
          "2008",
          "2009",
          "2010",
          "2011",
          "2012",
          "2013",
          "2014",
          "2015",
          "2016",
          "2017",
          "2018",
          "2019",
          "2020",
          "2021",
          "2022",
          "2023",
          "2024",
          "2025"
         ],
         "y": [
          37499,
          43516,
          57071,
          71159,
          80544,
          70314,
          56006,
          51857,
          59383,
          74660,
          79937,
          84651,
          88478,
          87995,
          89375,
          76627,
          28684,
          25197,
          93675,
          95913,
          45600
         ]
        },
        {
         "customdata": [
          259640,
          280371,
          320500,
          376363,
          448421,
          459541,
          413601,
          377094,
          367405,
          403924,
          446829,
          497868,
          564159,
          624893,
          691180,
          706095,
          591270,
          521831,
          677640,
          810960,
          270000
         ],
         "marker": {
          "color": "#9467bd"
         },
         "name": "Non-award",
         "opacity": 0.6,
         "type": "bar",
         "x": [
          "2005",
          "2006",
          "2007",
          "2008",
          "2009",
          "2010",
          "2011",
          "2012",
          "2013",
          "2014",
          "2015",
          "2016",
          "2017",
          "2018",
          "2019",
          "2020",
          "2021",
          "2022",
          "2023",
          "2024",
          "2025"
         ],
         "y": [
          16337,
          16141,
          16636,
          18040,
          18837,
          19257,
          17593,
          15058,
          16271,
          20186,
          23445,
          26148,
          31475,
          31296,
          30083,
          27549,
          10449,
          8365,
          18152,
          21263,
          14200
         ]
        },
        {
         "hovertemplate": "%{y}<extra></extra>",
         "line": {
          "color": "#8c564b",
          "width": 2
         },
         "marker": {
          "size": 8
         },
         "mode": "lines+markers",
         "name": "Total Enrolments",
         "type": "scatter",
         "x": [
          "2005",
          "2006",
          "2007",
          "2008",
          "2009",
          "2010",
          "2011",
          "2012",
          "2013",
          "2014",
          "2015",
          "2016",
          "2017",
          "2018",
          "2019",
          "2020",
          "2021",
          "2022",
          "2023",
          "2024",
          "2025"
         ],
         "y": [
          259640,
          280371,
          320500,
          376363,
          448421,
          459541,
          413601,
          377094,
          367405,
          403924,
          446829,
          497868,
          564159,
          624893,
          691180,
          706095,
          591270,
          521831,
          677640,
          810960,
          270000
         ]
        }
       ],
       "layout": {
        "annotations": [
         {
          "align": "left",
          "font": {
           "color": "#8c564b",
           "size": 17
          },
          "showarrow": false,
          "text": "<b>3x less<b>",
          "x": 0.98,
          "xanchor": "right",
          "xref": "paper",
          "y": 0.56,
          "yanchor": "bottom",
          "yref": "paper"
         },
         {
          "align": "left",
          "arrowcolor": "#a8a8a8",
          "arrowhead": 2,
          "arrowsize": 1,
          "arrowwidth": 1.5,
          "bgcolor": "#eaeaea",
          "font": {
           "color": "#8c564b",
           "size": 12
          },
          "showarrow": true,
          "standoff": 10,
          "text": "819000",
          "x": 0.9,
          "xanchor": "left",
          "xref": "paper",
          "y": 0.93,
          "yanchor": "top",
          "yref": "paper"
         },
         {
          "align": "left",
          "arrowcolor": "#a8a8a8",
          "arrowhead": 2,
          "arrowsize": 1,
          "arrowwidth": 1.5,
          "bgcolor": "#eaeaea",
          "font": {
           "color": "#8c564b",
           "size": 12
          },
          "showarrow": true,
          "standoff": 10,
          "text": "<b>Cap:</b><br>270000",
          "x": 0.956,
          "xanchor": "left",
          "xref": "paper",
          "y": 0.33,
          "yanchor": "top",
          "yref": "paper"
         }
        ],
        "bargap": 0.01,
        "barmode": "stack",
        "hoverlabel": {
         "bgcolor": "#eaeaea"
        },
        "hovermode": "x unified",
        "legend": {
         "orientation": "h"
        },
        "margin": {
         "b": 30,
         "l": 120,
         "r": 80,
         "t": 90
        },
        "paper_bgcolor": "#eaeaea",
        "plot_bgcolor": "#eaeaea",
        "showlegend": true,
        "template": {
         "data": {
          "bar": [
           {
            "error_x": {
             "color": "#2a3f5f"
            },
            "error_y": {
             "color": "#2a3f5f"
            },
            "marker": {
             "line": {
              "color": "white",
              "width": 0.5
             },
             "pattern": {
              "fillmode": "overlay",
              "size": 10,
              "solidity": 0.2
             }
            },
            "type": "bar"
           }
          ],
          "barpolar": [
           {
            "marker": {
             "line": {
              "color": "white",
              "width": 0.5
             },
             "pattern": {
              "fillmode": "overlay",
              "size": 10,
              "solidity": 0.2
             }
            },
            "type": "barpolar"
           }
          ],
          "carpet": [
           {
            "aaxis": {
             "endlinecolor": "#2a3f5f",
             "gridcolor": "#C8D4E3",
             "linecolor": "#C8D4E3",
             "minorgridcolor": "#C8D4E3",
             "startlinecolor": "#2a3f5f"
            },
            "baxis": {
             "endlinecolor": "#2a3f5f",
             "gridcolor": "#C8D4E3",
             "linecolor": "#C8D4E3",
             "minorgridcolor": "#C8D4E3",
             "startlinecolor": "#2a3f5f"
            },
            "type": "carpet"
           }
          ],
          "choropleth": [
           {
            "colorbar": {
             "outlinewidth": 0,
             "ticks": ""
            },
            "type": "choropleth"
           }
          ],
          "contour": [
           {
            "colorbar": {
             "outlinewidth": 0,
             "ticks": ""
            },
            "colorscale": [
             [
              0,
              "#0d0887"
             ],
             [
              0.1111111111111111,
              "#46039f"
             ],
             [
              0.2222222222222222,
              "#7201a8"
             ],
             [
              0.3333333333333333,
              "#9c179e"
             ],
             [
              0.4444444444444444,
              "#bd3786"
             ],
             [
              0.5555555555555556,
              "#d8576b"
             ],
             [
              0.6666666666666666,
              "#ed7953"
             ],
             [
              0.7777777777777778,
              "#fb9f3a"
             ],
             [
              0.8888888888888888,
              "#fdca26"
             ],
             [
              1,
              "#f0f921"
             ]
            ],
            "type": "contour"
           }
          ],
          "contourcarpet": [
           {
            "colorbar": {
             "outlinewidth": 0,
             "ticks": ""
            },
            "type": "contourcarpet"
           }
          ],
          "heatmap": [
           {
            "colorbar": {
             "outlinewidth": 0,
             "ticks": ""
            },
            "colorscale": [
             [
              0,
              "#0d0887"
             ],
             [
              0.1111111111111111,
              "#46039f"
             ],
             [
              0.2222222222222222,
              "#7201a8"
             ],
             [
              0.3333333333333333,
              "#9c179e"
             ],
             [
              0.4444444444444444,
              "#bd3786"
             ],
             [
              0.5555555555555556,
              "#d8576b"
             ],
             [
              0.6666666666666666,
              "#ed7953"
             ],
             [
              0.7777777777777778,
              "#fb9f3a"
             ],
             [
              0.8888888888888888,
              "#fdca26"
             ],
             [
              1,
              "#f0f921"
             ]
            ],
            "type": "heatmap"
           }
          ],
          "heatmapgl": [
           {
            "colorbar": {
             "outlinewidth": 0,
             "ticks": ""
            },
            "colorscale": [
             [
              0,
              "#0d0887"
             ],
             [
              0.1111111111111111,
              "#46039f"
             ],
             [
              0.2222222222222222,
              "#7201a8"
             ],
             [
              0.3333333333333333,
              "#9c179e"
             ],
             [
              0.4444444444444444,
              "#bd3786"
             ],
             [
              0.5555555555555556,
              "#d8576b"
             ],
             [
              0.6666666666666666,
              "#ed7953"
             ],
             [
              0.7777777777777778,
              "#fb9f3a"
             ],
             [
              0.8888888888888888,
              "#fdca26"
             ],
             [
              1,
              "#f0f921"
             ]
            ],
            "type": "heatmapgl"
           }
          ],
          "histogram": [
           {
            "marker": {
             "pattern": {
              "fillmode": "overlay",
              "size": 10,
              "solidity": 0.2
             }
            },
            "type": "histogram"
           }
          ],
          "histogram2d": [
           {
            "colorbar": {
             "outlinewidth": 0,
             "ticks": ""
            },
            "colorscale": [
             [
              0,
              "#0d0887"
             ],
             [
              0.1111111111111111,
              "#46039f"
             ],
             [
              0.2222222222222222,
              "#7201a8"
             ],
             [
              0.3333333333333333,
              "#9c179e"
             ],
             [
              0.4444444444444444,
              "#bd3786"
             ],
             [
              0.5555555555555556,
              "#d8576b"
             ],
             [
              0.6666666666666666,
              "#ed7953"
             ],
             [
              0.7777777777777778,
              "#fb9f3a"
             ],
             [
              0.8888888888888888,
              "#fdca26"
             ],
             [
              1,
              "#f0f921"
             ]
            ],
            "type": "histogram2d"
           }
          ],
          "histogram2dcontour": [
           {
            "colorbar": {
             "outlinewidth": 0,
             "ticks": ""
            },
            "colorscale": [
             [
              0,
              "#0d0887"
             ],
             [
              0.1111111111111111,
              "#46039f"
             ],
             [
              0.2222222222222222,
              "#7201a8"
             ],
             [
              0.3333333333333333,
              "#9c179e"
             ],
             [
              0.4444444444444444,
              "#bd3786"
             ],
             [
              0.5555555555555556,
              "#d8576b"
             ],
             [
              0.6666666666666666,
              "#ed7953"
             ],
             [
              0.7777777777777778,
              "#fb9f3a"
             ],
             [
              0.8888888888888888,
              "#fdca26"
             ],
             [
              1,
              "#f0f921"
             ]
            ],
            "type": "histogram2dcontour"
           }
          ],
          "mesh3d": [
           {
            "colorbar": {
             "outlinewidth": 0,
             "ticks": ""
            },
            "type": "mesh3d"
           }
          ],
          "parcoords": [
           {
            "line": {
             "colorbar": {
              "outlinewidth": 0,
              "ticks": ""
             }
            },
            "type": "parcoords"
           }
          ],
          "pie": [
           {
            "automargin": true,
            "type": "pie"
           }
          ],
          "scatter": [
           {
            "marker": {
             "colorbar": {
              "outlinewidth": 0,
              "ticks": ""
             }
            },
            "type": "scatter"
           }
          ],
          "scatter3d": [
           {
            "line": {
             "colorbar": {
              "outlinewidth": 0,
              "ticks": ""
             }
            },
            "marker": {
             "colorbar": {
              "outlinewidth": 0,
              "ticks": ""
             }
            },
            "type": "scatter3d"
           }
          ],
          "scattercarpet": [
           {
            "marker": {
             "colorbar": {
              "outlinewidth": 0,
              "ticks": ""
             }
            },
            "type": "scattercarpet"
           }
          ],
          "scattergeo": [
           {
            "marker": {
             "colorbar": {
              "outlinewidth": 0,
              "ticks": ""
             }
            },
            "type": "scattergeo"
           }
          ],
          "scattergl": [
           {
            "marker": {
             "colorbar": {
              "outlinewidth": 0,
              "ticks": ""
             }
            },
            "type": "scattergl"
           }
          ],
          "scattermapbox": [
           {
            "marker": {
             "colorbar": {
              "outlinewidth": 0,
              "ticks": ""
             }
            },
            "type": "scattermapbox"
           }
          ],
          "scatterpolar": [
           {
            "marker": {
             "colorbar": {
              "outlinewidth": 0,
              "ticks": ""
             }
            },
            "type": "scatterpolar"
           }
          ],
          "scatterpolargl": [
           {
            "marker": {
             "colorbar": {
              "outlinewidth": 0,
              "ticks": ""
             }
            },
            "type": "scatterpolargl"
           }
          ],
          "scatterternary": [
           {
            "marker": {
             "colorbar": {
              "outlinewidth": 0,
              "ticks": ""
             }
            },
            "type": "scatterternary"
           }
          ],
          "surface": [
           {
            "colorbar": {
             "outlinewidth": 0,
             "ticks": ""
            },
            "colorscale": [
             [
              0,
              "#0d0887"
             ],
             [
              0.1111111111111111,
              "#46039f"
             ],
             [
              0.2222222222222222,
              "#7201a8"
             ],
             [
              0.3333333333333333,
              "#9c179e"
             ],
             [
              0.4444444444444444,
              "#bd3786"
             ],
             [
              0.5555555555555556,
              "#d8576b"
             ],
             [
              0.6666666666666666,
              "#ed7953"
             ],
             [
              0.7777777777777778,
              "#fb9f3a"
             ],
             [
              0.8888888888888888,
              "#fdca26"
             ],
             [
              1,
              "#f0f921"
             ]
            ],
            "type": "surface"
           }
          ],
          "table": [
           {
            "cells": {
             "fill": {
              "color": "#EBF0F8"
             },
             "line": {
              "color": "white"
             }
            },
            "header": {
             "fill": {
              "color": "#C8D4E3"
             },
             "line": {
              "color": "white"
             }
            },
            "type": "table"
           }
          ]
         },
         "layout": {
          "annotationdefaults": {
           "arrowcolor": "#2a3f5f",
           "arrowhead": 0,
           "arrowwidth": 1
          },
          "autotypenumbers": "strict",
          "coloraxis": {
           "colorbar": {
            "outlinewidth": 0,
            "ticks": ""
           }
          },
          "colorscale": {
           "diverging": [
            [
             0,
             "#8e0152"
            ],
            [
             0.1,
             "#c51b7d"
            ],
            [
             0.2,
             "#de77ae"
            ],
            [
             0.3,
             "#f1b6da"
            ],
            [
             0.4,
             "#fde0ef"
            ],
            [
             0.5,
             "#f7f7f7"
            ],
            [
             0.6,
             "#e6f5d0"
            ],
            [
             0.7,
             "#b8e186"
            ],
            [
             0.8,
             "#7fbc41"
            ],
            [
             0.9,
             "#4d9221"
            ],
            [
             1,
             "#276419"
            ]
           ],
           "sequential": [
            [
             0,
             "#0d0887"
            ],
            [
             0.1111111111111111,
             "#46039f"
            ],
            [
             0.2222222222222222,
             "#7201a8"
            ],
            [
             0.3333333333333333,
             "#9c179e"
            ],
            [
             0.4444444444444444,
             "#bd3786"
            ],
            [
             0.5555555555555556,
             "#d8576b"
            ],
            [
             0.6666666666666666,
             "#ed7953"
            ],
            [
             0.7777777777777778,
             "#fb9f3a"
            ],
            [
             0.8888888888888888,
             "#fdca26"
            ],
            [
             1,
             "#f0f921"
            ]
           ],
           "sequentialminus": [
            [
             0,
             "#0d0887"
            ],
            [
             0.1111111111111111,
             "#46039f"
            ],
            [
             0.2222222222222222,
             "#7201a8"
            ],
            [
             0.3333333333333333,
             "#9c179e"
            ],
            [
             0.4444444444444444,
             "#bd3786"
            ],
            [
             0.5555555555555556,
             "#d8576b"
            ],
            [
             0.6666666666666666,
             "#ed7953"
            ],
            [
             0.7777777777777778,
             "#fb9f3a"
            ],
            [
             0.8888888888888888,
             "#fdca26"
            ],
            [
             1,
             "#f0f921"
            ]
           ]
          },
          "colorway": [
           "#636efa",
           "#EF553B",
           "#00cc96",
           "#ab63fa",
           "#FFA15A",
           "#19d3f3",
           "#FF6692",
           "#B6E880",
           "#FF97FF",
           "#FECB52"
          ],
          "font": {
           "color": "#2a3f5f"
          },
          "geo": {
           "bgcolor": "white",
           "lakecolor": "white",
           "landcolor": "white",
           "showlakes": true,
           "showland": true,
           "subunitcolor": "#C8D4E3"
          },
          "hoverlabel": {
           "align": "left"
          },
          "hovermode": "closest",
          "mapbox": {
           "style": "light"
          },
          "paper_bgcolor": "white",
          "plot_bgcolor": "white",
          "polar": {
           "angularaxis": {
            "gridcolor": "#EBF0F8",
            "linecolor": "#EBF0F8",
            "ticks": ""
           },
           "bgcolor": "white",
           "radialaxis": {
            "gridcolor": "#EBF0F8",
            "linecolor": "#EBF0F8",
            "ticks": ""
           }
          },
          "scene": {
           "xaxis": {
            "backgroundcolor": "white",
            "gridcolor": "#DFE8F3",
            "gridwidth": 2,
            "linecolor": "#EBF0F8",
            "showbackground": true,
            "ticks": "",
            "zerolinecolor": "#EBF0F8"
           },
           "yaxis": {
            "backgroundcolor": "white",
            "gridcolor": "#DFE8F3",
            "gridwidth": 2,
            "linecolor": "#EBF0F8",
            "showbackground": true,
            "ticks": "",
            "zerolinecolor": "#EBF0F8"
           },
           "zaxis": {
            "backgroundcolor": "white",
            "gridcolor": "#DFE8F3",
            "gridwidth": 2,
            "linecolor": "#EBF0F8",
            "showbackground": true,
            "ticks": "",
            "zerolinecolor": "#EBF0F8"
           }
          },
          "shapedefaults": {
           "line": {
            "color": "#2a3f5f"
           }
          },
          "ternary": {
           "aaxis": {
            "gridcolor": "#DFE8F3",
            "linecolor": "#A2B1C6",
            "ticks": ""
           },
           "baxis": {
            "gridcolor": "#DFE8F3",
            "linecolor": "#A2B1C6",
            "ticks": ""
           },
           "bgcolor": "white",
           "caxis": {
            "gridcolor": "#DFE8F3",
            "linecolor": "#A2B1C6",
            "ticks": ""
           }
          },
          "title": {
           "x": 0.05
          },
          "xaxis": {
           "automargin": true,
           "gridcolor": "#EBF0F8",
           "linecolor": "#EBF0F8",
           "ticks": "",
           "title": {
            "standoff": 15
           },
           "zerolinecolor": "#EBF0F8",
           "zerolinewidth": 2
          },
          "yaxis": {
           "automargin": true,
           "gridcolor": "#EBF0F8",
           "linecolor": "#EBF0F8",
           "ticks": "",
           "title": {
            "standoff": 15
           },
           "zerolinecolor": "#EBF0F8",
           "zerolinewidth": 2
          }
         }
        },
        "title": {
         "text": "<b>Detailed Breakdown and Trends in Educational Enrolments by Sector (2005 - 2025)</b>"
        },
        "updatemenus": [
         {
          "buttons": [
           {
            "args": [
             {
              "xaxis.range": [
               2005,
               2009
              ]
             }
            ],
            "label": "5 Years",
            "method": "update"
           },
           {
            "args": [
             {
              "xaxis.range": [
               2005,
               2014
              ]
             }
            ],
            "label": "10 Years",
            "method": "update"
           },
           {
            "args": [
             {
              "xaxis.range": [
               2005,
               2025
              ]
             }
            ],
            "label": "All Time",
            "method": "update"
           }
          ],
          "direction": "down",
          "showactive": true,
          "x": 0.17,
          "xanchor": "left",
          "y": 1.15,
          "yanchor": "top"
         }
        ],
        "xaxis": {
         "linecolor": "#d6d6d6",
         "tickformat": "%Y"
        },
        "yaxis": {
         "gridcolor": "#d6d6d6",
         "tickformat": ",",
         "title": {
          "text": "Number of Enrolments"
         }
        }
       }
      }
     },
     "metadata": {},
     "output_type": "display_data"
    }
   ],
   "source": [
    "import plotly.graph_objects as go\n",
    "import pandas as pd\n",
    "\n",
    "# Filter out \"Grand Total\" for bars, but keep it in the data for tooltips\n",
    "df_bars = df_long[df_long['Sector'] != 'Grand Total']\n",
    "df_grand_total = df_long[df_long['Sector'] == 'Grand Total']\n",
    "\n",
    "# Define the figure\n",
    "fig = go.Figure()\n",
    "\n",
    "# Define colors for each sector\n",
    "sector_colors = {\n",
    "    'Higher Education': '#1f77b4',\n",
    "    'VET': '#ff7f0e',\n",
    "    'Schools': '#2ca02c',\n",
    "    'ELICOS': '#d62728',\n",
    "    'Non-award': '#9467bd',\n",
    "    'Grand Total': '#8c564b'  # Color for Grand Total\n",
    "}\n",
    "\n",
    "# Add bars for each sector except \"Grand Total\"\n",
    "for sector in df_bars['Sector'].unique():\n",
    "    sector_data = df_bars[df_bars['Sector'] == sector]\n",
    "    fig.add_trace(\n",
    "        go.Bar(\n",
    "            name=sector,\n",
    "            x=sector_data['Year'],\n",
    "            y=sector_data['Enrolments'],\n",
    "            marker_color=sector_colors.get(sector, '#000000'),\n",
    "            opacity=0.6,\n",
    "            customdata=[df_grand_total[df_grand_total['Year'] == year]['Enrolments'].values[0] if not df_grand_total[df_grand_total['Year'] == year].empty else None for year in sector_data['Year']]\n",
    "        )\n",
    "    )\n",
    "\n",
    "# Add line for \"Grand Total\"\n",
    "fig.add_trace(\n",
    "    go.Scatter(\n",
    "        x=df_grand_total['Year'],\n",
    "        y=df_grand_total['Enrolments'],\n",
    "        mode='lines+markers',\n",
    "        line=dict(color=sector_colors['Grand Total'], width=2),\n",
    "        marker=dict(size=8),\n",
    "        name='Total Enrolments',\n",
    "        hovertemplate='%{y}<extra></extra>'\n",
    "    )\n",
    ")\n",
    "\n",
    "# Update layout with dropdown buttons\n",
    "fig.update_layout(\n",
    "    title=\"<b>Detailed Breakdown and Trends in Educational Enrolments by Sector (2005 - 2025)</b>\",\n",
    "    showlegend=True,\n",
    "    legend_orientation='h',\n",
    "    margin=dict(t=90, b=30, l=120, r=80),\n",
    "    barmode='stack',\n",
    "    hovermode='x unified',\n",
    "    template='plotly_white',\n",
    "    paper_bgcolor='#eaeaea',\n",
    "    plot_bgcolor='#eaeaea',\n",
    "    hoverlabel=dict(\n",
    "        bgcolor='#eaeaea'\n",
    "    ),\n",
    "    bargap=0.01,\n",
    "    updatemenus=[\n",
    "        {\n",
    "            'buttons': [\n",
    "                {\n",
    "                    'label': '5 Years',\n",
    "                    'method': 'update',\n",
    "                    'args': [{'xaxis.range': [2005, 2009]}]\n",
    "                },\n",
    "                {\n",
    "                    'label': '10 Years',\n",
    "                    'method': 'update',\n",
    "                    'args': [{'xaxis.range': [2005, 2014]}]\n",
    "                },\n",
    "                {\n",
    "                    'label': 'All Time',\n",
    "                    'method': 'update',\n",
    "                    'args': [{'xaxis.range': [2005, 2025]}]\n",
    "                }\n",
    "            ],\n",
    "            'direction': 'down',\n",
    "            'showactive': True,\n",
    "            'x': 0.17,\n",
    "            'xanchor': 'left',\n",
    "            'y': 1.15,\n",
    "            'yanchor': 'top'\n",
    "        }\n",
    "    ]\n",
    ")\n",
    "\n",
    "fig.update_xaxes(\n",
    "    linecolor='#d6d6d6',\n",
    "    tickformat='%Y'\n",
    ")\n",
    "\n",
    "fig.update_yaxes(\n",
    "    tickformat=',',\n",
    "    gridcolor='#d6d6d6',\n",
    "    title='Number of Enrolments'\n",
    ")\n",
    "\n",
    "# Add annotation\n",
    "fig.add_annotation(\n",
    "    x=0.98,\n",
    "    y=0.56,\n",
    "    xref='paper',\n",
    "    yref='paper',\n",
    "    text=\"<b>3x less<b>\",\n",
    "    showarrow=False,\n",
    "    align='left',\n",
    "    font=dict(size=17, color='#8c564b'),\n",
    "    xanchor='right',\n",
    "    yanchor='bottom'\n",
    ")\n",
    "\n",
    "# Add annotation\n",
    "fig.add_annotation(\n",
    "    x=0.9,\n",
    "    y=0.93,\n",
    "    xref='paper',\n",
    "    yref='paper',\n",
    "    text=\"819000\",\n",
    "    showarrow=True,\n",
    "    arrowhead=2,  # Style of the arrow\n",
    "    arrowsize=1,  # Size of the arrow\n",
    "    arrowwidth=1.5,  # Width of the arrow\n",
    "    arrowcolor='#a8a8a8',  # Color of the arrow\n",
    "    align='left',\n",
    "    font=dict(size=12, color='#8c564b'),\n",
    "    bgcolor='#eaeaea',  # Background color of the annotation\n",
    "    xanchor='left',\n",
    "    yanchor='top',\n",
    "    standoff=10  # Distance of the annotation from the arrow\n",
    ")\n",
    "\n",
    "# Add annotation\n",
    "fig.add_annotation(\n",
    "    x=0.956,\n",
    "    y=0.33,\n",
    "    xref='paper',\n",
    "    yref='paper',\n",
    "    text=\"<b>Cap:</b><br>270000\",\n",
    "    showarrow=True,\n",
    "    arrowhead=2,  # Style of the arrow\n",
    "    arrowsize=1,  # Size of the arrow\n",
    "    arrowwidth=1.5,  # Width of the arrow\n",
    "    arrowcolor='#a8a8a8',  # Color of the arrow\n",
    "    align='left',\n",
    "    font=dict(size=12, color='#8c564b'),\n",
    "    bgcolor='#eaeaea',  # Background color of the annotation\n",
    "    xanchor='left',\n",
    "    yanchor='top',\n",
    "    standoff=10  # Distance of the annotation from the arrow\n",
    ")\n",
    "\n",
    "fig.show()\n",
    "\n",
    "# Save the figure\n",
    "fig.write_html('educational_enrolments.html')\n"
   ]
  }
 ],
 "metadata": {
  "kernelspec": {
   "display_name": "Python 3",
   "language": "python",
   "name": "python3"
  },
  "language_info": {
   "codemirror_mode": {
    "name": "ipython",
    "version": 3
   },
   "file_extension": ".py",
   "mimetype": "text/x-python",
   "name": "python",
   "nbconvert_exporter": "python",
   "pygments_lexer": "ipython3",
   "version": "3.9.6"
  }
 },
 "nbformat": 4,
 "nbformat_minor": 2
}
